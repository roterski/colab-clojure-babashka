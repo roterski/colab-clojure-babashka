{
  "nbformat": 4,
  "nbformat_minor": 0,
  "metadata": {
    "colab": {
      "provenance": [],
      "authorship_tag": "ABX9TyOdrPZjbOIQg8bPH9h6JePS",
      "include_colab_link": true
    },
    "kernelspec": {
      "name": "python3",
      "display_name": "Python 3"
    },
    "language_info": {
      "name": "python"
    }
  },
  "cells": [
    {
      "cell_type": "markdown",
      "metadata": {
        "id": "view-in-github",
        "colab_type": "text"
      },
      "source": [
        "<a href=\"https://colab.research.google.com/github/roterski/colab-clojure-babashka/blob/main/babashka.ipynb\" target=\"_parent\"><img src=\"https://colab.research.google.com/assets/colab-badge.svg\" alt=\"Open In Colab\"/></a>"
      ]
    },
    {
      "cell_type": "code",
      "source": [
        "#@title Install babashka https://github.com/babashka/babashka\n",
        "!(curl -s https://raw.githubusercontent.com/babashka/babashka/master/install) >> .install-babashka\n",
        "!. .install-babashka"
      ],
      "metadata": {
        "colab": {
          "base_uri": "https://localhost:8080/"
        },
        "cellView": "form",
        "id": "mZRdFC1GjKgJ",
        "outputId": "277f5c71-a8a7-4ba9-eea7-aea79a3cdaec"
      },
      "execution_count": 77,
      "outputs": [
        {
          "output_type": "stream",
          "name": "stdout",
          "text": [
            "Downloading https://github.com/babashka/babashka/releases/download/v1.0.168/babashka-1.0.168-linux-amd64-static.tar.gz to /tmp/tmp.5CtENX84UH\n",
            "Moving /usr/local/bin/bb to /usr/local/bin/bb.old\n",
            "Successfully installed bb in /usr/local/bin\n",
            "Downloading https://github.com/babashka/babashka/releases/download/v1.0.168/babashka-1.0.168-linux-amd64-static.tar.gz to /tmp/tmp.gmx2X0OGA6\n",
            "Moving /usr/local/bin/bb to /usr/local/bin/bb.old\n",
            "Successfully installed bb in /usr/local/bin\n"
          ]
        }
      ]
    },
    {
      "cell_type": "code",
      "source": [
        "#@title Babashka REPL\n",
        "!bb"
      ],
      "metadata": {
        "colab": {
          "base_uri": "https://localhost:8080/"
        },
        "id": "yF6n1y69jpTb",
        "outputId": "19b999bd-5a40-4333-b0c5-aea8ac7daeb5"
      },
      "execution_count": 79,
      "outputs": [
        {
          "output_type": "stream",
          "name": "stdout",
          "text": [
            "Babashka v1.0.168 REPL.\n",
            "Use :repl/quit or :repl/exit to quit the REPL.\n",
            "Clojure rocks, Bash reaches.\n",
            "\n",
            "user=> "
          ]
        }
      ]
    },
    {
      "cell_type": "code",
      "source": [
        "#@title Babashka CLI call\n",
        "!ls | bb -i '(filter fs/directory? *input*)'"
      ],
      "metadata": {
        "colab": {
          "base_uri": "https://localhost:8080/"
        },
        "id": "Zts2djzLjvRL",
        "outputId": "d2c2a0d4-d39d-4fa4-af4b-eb71d66aeb2f"
      },
      "execution_count": 80,
      "outputs": [
        {
          "output_type": "stream",
          "name": "stdout",
          "text": [
            "(\"sample_data\")\n"
          ]
        }
      ]
    },
    {
      "cell_type": "markdown",
      "source": [
        "```clojure\n",
        "#!/usr/bin/env bb\n",
        "\n",
        "(def now (java.time.ZonedDateTime/now))\n",
        "(def LA-timezone (java.time.ZoneId/of \"America/Los_Angeles\"))\n",
        "(def LA-time (.withZoneSameInstant now LA-timezone))\n",
        "(def pattern (java.time.format.DateTimeFormatter/ofPattern \"HH:mm\"))\n",
        "(println (.format LA-time pattern))\n",
        "```\n",
        "\n"
      ],
      "metadata": {
        "id": "E2HGXtvKlxr-"
      }
    },
    {
      "cell_type": "code",
      "source": [
        "from google.colab import auth;\n",
        "auth.authenticate_user();"
      ],
      "metadata": {
        "id": "g6GHsE3gmaSj"
      },
      "execution_count": 19,
      "outputs": []
    },
    {
      "cell_type": "code",
      "source": [
        "#@title Load Colab files\n",
        "from pydrive.auth import GoogleAuth\n",
        "from pydrive.drive import GoogleDrive\n",
        "from oauth2client.client import GoogleCredentials\n",
        "\n",
        "gauth = GoogleAuth()\n",
        "gauth.credentials = GoogleCredentials.get_application_default()\n",
        "drive = GoogleDrive(gauth)\n",
        "\n",
        "file_id = '1PMleVp2CYjTffs5gn2JEqEqhAKSAen5t' #@param {'type': 'string'}\n",
        "file = drive.CreateFile({'id': file_id})\n",
        "downloaded = file.GetContentString()"
      ],
      "metadata": {
        "cellView": "form",
        "id": "A2Dq2E1znQlD"
      },
      "execution_count": 82,
      "outputs": []
    },
    {
      "cell_type": "markdown",
      "source": [
        "Run clojure code"
      ],
      "metadata": {
        "id": "8rtlRc2L4hAU"
      }
    },
    {
      "cell_type": "code",
      "source": [
        "#@title Run clojure code\n",
        "import json\n",
        "\n",
        "\n",
        "print(\"Running clojure code:\\n\")\n",
        "\n",
        "file = open(\"bb.clj\", \"w+\")\n",
        "clojure_code = False\n",
        "for cell in json.loads(downloaded)['cells']:\n",
        "  if cell['cell_type'] == 'markdown':\n",
        "    for line in cell['source']:\n",
        "      if clojure_code == True and line == '```\\n':\n",
        "        clojure_code = False\n",
        "      if clojure_code:\n",
        "        print(line)\n",
        "        file.write(line)\n",
        "      if line == '```clojure\\n':\n",
        "        clojure_code = True\n",
        "      \n",
        "file.close()\n",
        "print(\"=>\")\n",
        "!bb bb.clj"
      ],
      "metadata": {
        "colab": {
          "base_uri": "https://localhost:8080/"
        },
        "cellView": "form",
        "id": "X-M6SitLnsEe",
        "outputId": "2f4fbe10-861f-494b-fc04-840c7b1abc1b"
      },
      "execution_count": 83,
      "outputs": [
        {
          "output_type": "stream",
          "name": "stdout",
          "text": [
            "Running clojure code:\n",
            "\n",
            "#!/usr/bin/env bb\n",
            "\n",
            "\n",
            "\n",
            "(def now (java.time.ZonedDateTime/now))\n",
            "\n",
            "(def LA-timezone (java.time.ZoneId/of \"America/Los_Angeles\"))\n",
            "\n",
            "(def LA-time (.withZoneSameInstant now LA-timezone))\n",
            "\n",
            "(def pattern (java.time.format.DateTimeFormatter/ofPattern \"HH:mm\"))\n",
            "\n",
            "(println (.format LA-time pattern))\n",
            "\n",
            "=>\n",
            "01:56\n"
          ]
        }
      ]
    }
  ]
}