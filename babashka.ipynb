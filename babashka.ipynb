{
  "cells": [
    {
      "cell_type": "markdown",
      "metadata": {
        "id": "view-in-github",
        "colab_type": "text"
      },
      "source": [
        "<a href=\"https://colab.research.google.com/github/roterski/colab-clojure-babashka/blob/main/babashka.ipynb\" target=\"_parent\"><img src=\"https://colab.research.google.com/assets/colab-badge.svg\" alt=\"Open In Colab\"/></a>"
      ]
    },
    {
      "cell_type": "code",
      "execution_count": null,
      "metadata": {
        "cellView": "form",
        "id": "mZRdFC1GjKgJ"
      },
      "outputs": [],
      "source": [
        "#@title Install babashka https://github.com/babashka/babashka\n",
        "!(curl -s https://raw.githubusercontent.com/babashka/babashka/master/install) >> .install-babashka\n",
        "!. .install-babashka"
      ]
    },
    {
      "cell_type": "code",
      "execution_count": null,
      "metadata": {
        "id": "Zts2djzLjvRL",
        "cellView": "form"
      },
      "outputs": [],
      "source": [
        "#@title Babashka CLI call\n",
        "!ls | bb -i '(filter fs/directory? *input*)'"
      ]
    },
    {
      "cell_type": "code",
      "execution_count": null,
      "metadata": {
        "id": "yF6n1y69jpTb"
      },
      "outputs": [],
      "source": [
        "#@title run Babashka clojure REPL\n",
        "!bb"
      ]
    },
    {
      "cell_type": "code",
      "source": [
        "#@title run scripts/bb.clj\n",
        "!curl https://raw.githubusercontent.com/roterski/colab-clojure-babashka/main/scripts/bb.clj | bb"
      ],
      "metadata": {
        "id": "cGi4HufRC0Ye"
      },
      "execution_count": null,
      "outputs": []
    },
    {
      "cell_type": "markdown",
      "metadata": {
        "id": "E2HGXtvKlxr-"
      },
      "source": [
        "# Running clojure snippets:\n",
        "\n",
        "```clojure\n",
        "#!/usr/bin/env bb\n",
        "\n",
        "(def now (java.time.ZonedDateTime/now))\n",
        "(def LA-timezone (java.time.ZoneId/of \"America/Los_Angeles\"))\n",
        "(def LA-time (.withZoneSameInstant now LA-timezone))\n",
        "(def pattern (java.time.format.DateTimeFormatter/ofPattern \"HH:mm\"))\n",
        "(println (.format LA-time pattern))\n",
        "```\n",
        "\n",
        "To run clojure snippets defined in `.ipynb` like the one above, few steps need to be completed:\n",
        "\n",
        "\n",
        "*   Click `Copy to Drive` button in the top bar to create this notebook copy in your drive\n",
        "*   Switch to newly created tab and re-run `install babashka` step there\n",
        "\n",
        "\n"
      ]
    },
    {
      "cell_type": "code",
      "execution_count": 64,
      "metadata": {
        "id": "g6GHsE3gmaSj"
      },
      "outputs": [],
      "source": [
        "#@title authenticate in google.colab\n",
        "from google.colab import auth\n",
        "auth.authenticate_user()"
      ]
    },
    {
      "cell_type": "code",
      "execution_count": 65,
      "metadata": {
        "cellView": "form",
        "id": "A2Dq2E1znQlD"
      },
      "outputs": [],
      "source": [
        "#@title Load/Reload Colab Notebook\n",
        "from pydrive.auth import GoogleAuth\n",
        "from pydrive.drive import GoogleDrive\n",
        "from oauth2client.client import GoogleCredentials\n",
        "\n",
        "gauth = GoogleAuth()\n",
        "gauth.credentials = GoogleCredentials.get_application_default()\n",
        "drive = GoogleDrive(gauth)\n",
        "#@markdown Take the Colab Nodebook url from URL bar of this browser tab:\n",
        "colab_notebook_url = '' #@param {'type': 'string'}\n",
        "\n",
        "file_id = colab_notebook_url.split(\"https://colab.research.google.com/drive/\")[-1].split(\"#\")[0]\n",
        "\n",
        "file = drive.CreateFile({'id': file_id})\n",
        "downloaded = file.GetContentString()"
      ]
    },
    {
      "cell_type": "markdown",
      "metadata": {
        "id": "8rtlRc2L4hAU"
      },
      "source": [
        "Run clojure code"
      ]
    },
    {
      "cell_type": "code",
      "execution_count": null,
      "metadata": {
        "cellView": "form",
        "id": "X-M6SitLnsEe"
      },
      "outputs": [],
      "source": [
        "#@title Run clojure code\n",
        "import json\n",
        "\n",
        "\n",
        "print(\"Running clojure code:\\n\")\n",
        "\n",
        "file = open(\"bb.clj\", \"w+\")\n",
        "clojure_code = False\n",
        "for cell in json.loads(downloaded)['cells']:\n",
        "  if cell['cell_type'] == 'markdown':\n",
        "    for line in cell['source']:\n",
        "      if clojure_code == True and line == '```\\n':\n",
        "        clojure_code = False\n",
        "      if clojure_code:\n",
        "        print(line)\n",
        "        file.write(line)\n",
        "      if line == '```clojure\\n':\n",
        "        clojure_code = True\n",
        "      \n",
        "file.close()\n",
        "print(\"=>\")\n",
        "!bb bb.clj"
      ]
    }
  ],
  "metadata": {
    "colab": {
      "provenance": [],
      "include_colab_link": true
    },
    "kernelspec": {
      "display_name": "Python 3.9.16 64-bit ('3.9.16')",
      "language": "python",
      "name": "python3"
    },
    "language_info": {
      "codemirror_mode": {
        "name": "ipython",
        "version": 3
      },
      "file_extension": ".py",
      "mimetype": "text/x-python",
      "name": "python",
      "nbconvert_exporter": "python",
      "pygments_lexer": "ipython3",
      "version": "3.9.16"
    },
    "vscode": {
      "interpreter": {
        "hash": "5299593d4cdca7aafce377e837dae5184f57edc9ebd8d8a33acb7316621ff3aa"
      }
    }
  },
  "nbformat": 4,
  "nbformat_minor": 0
}