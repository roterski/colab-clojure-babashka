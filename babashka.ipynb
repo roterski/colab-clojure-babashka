{
  "cells": [
    {
      "cell_type": "markdown",
      "metadata": {
        "colab_type": "text",
        "id": "view-in-github"
      },
      "source": [
        "<a href=\"https://colab.research.google.com/github/roterski/colab-clojure-babashka/blob/main/babashka.ipynb\" target=\"_parent\"><img src=\"https://colab.research.google.com/assets/colab-badge.svg\" alt=\"Open In Colab\"/></a>"
      ]
    },
    {
      "cell_type": "code",
      "execution_count": null,
      "metadata": {
        "cellView": "form",
        "colab": {
          "base_uri": "https://localhost:8080/"
        },
        "id": "mZRdFC1GjKgJ",
        "outputId": "277f5c71-a8a7-4ba9-eea7-aea79a3cdaec"
      },
      "outputs": [],
      "source": [
        "#@title Install babashka https://github.com/babashka/babashka\n",
        "!(curl -s https://raw.githubusercontent.com/babashka/babashka/master/install) >> .install-babashka\n",
        "!. .install-babashka"
      ]
    },
    {
      "cell_type": "code",
      "execution_count": null,
      "metadata": {
        "colab": {
          "base_uri": "https://localhost:8080/"
        },
        "id": "yF6n1y69jpTb",
        "outputId": "19b999bd-5a40-4333-b0c5-aea8ac7daeb5"
      },
      "outputs": [],
      "source": [
        "#@title Babashka REPL\n",
        "!bb"
      ]
    },
    {
      "cell_type": "code",
      "execution_count": null,
      "metadata": {
        "colab": {
          "base_uri": "https://localhost:8080/"
        },
        "id": "Zts2djzLjvRL",
        "outputId": "d2c2a0d4-d39d-4fa4-af4b-eb71d66aeb2f"
      },
      "outputs": [],
      "source": [
        "#@title Babashka CLI call\n",
        "!ls | bb -i '(filter fs/directory? *input*)'"
      ]
    },
    {
      "cell_type": "markdown",
      "metadata": {
        "id": "E2HGXtvKlxr-"
      },
      "source": [
        "```clojure\n",
        "#!/usr/bin/env bb\n",
        "\n",
        "(def now (java.time.ZonedDateTime/now))\n",
        "(def LA-timezone (java.time.ZoneId/of \"America/Los_Angeles\"))\n",
        "(def LA-time (.withZoneSameInstant now LA-timezone))\n",
        "(def pattern (java.time.format.DateTimeFormatter/ofPattern \"HH:mm\"))\n",
        "(println (.format LA-time pattern))\n",
        "```\n",
        "\n"
      ]
    },
    {
      "cell_type": "code",
      "execution_count": 19,
      "metadata": {
        "id": "g6GHsE3gmaSj"
      },
      "outputs": [],
      "source": [
        "from google.colab import auth\n",
        "auth.authenticate_user()"
      ]
    },
    {
      "cell_type": "code",
      "execution_count": 82,
      "metadata": {
        "cellView": "form",
        "id": "A2Dq2E1znQlD"
      },
      "outputs": [],
      "source": [
        "#@title Load Colab files\n",
        "from pydrive.auth import GoogleAuth\n",
        "from pydrive.drive import GoogleDrive\n",
        "from oauth2client.client import GoogleCredentials\n",
        "\n",
        "gauth = GoogleAuth()\n",
        "gauth.credentials = GoogleCredentials.get_application_default()\n",
        "drive = GoogleDrive(gauth)\n",
        "\n",
        "file_id = '1PMleVp2CYjTffs5gn2JEqEqhAKSAen5t' #@param {'type': 'string'}\n",
        "file = drive.CreateFile({'id': file_id})\n",
        "downloaded = file.GetContentString()"
      ]
    },
    {
      "cell_type": "markdown",
      "metadata": {
        "id": "8rtlRc2L4hAU"
      },
      "source": [
        "Run clojure code"
      ]
    },
    {
      "cell_type": "code",
      "execution_count": null,
      "metadata": {
        "cellView": "form",
        "colab": {
          "base_uri": "https://localhost:8080/"
        },
        "id": "X-M6SitLnsEe",
        "outputId": "2f4fbe10-861f-494b-fc04-840c7b1abc1b"
      },
      "outputs": [],
      "source": [
        "#@title Run clojure code\n",
        "import json\n",
        "\n",
        "\n",
        "print(\"Running clojure code:\\n\")\n",
        "\n",
        "file = open(\"bb.clj\", \"w+\")\n",
        "clojure_code = False\n",
        "for cell in json.loads(downloaded)['cells']:\n",
        "  if cell['cell_type'] == 'markdown':\n",
        "    for line in cell['source']:\n",
        "      if clojure_code == True and line == '```\\n':\n",
        "        clojure_code = False\n",
        "      if clojure_code:\n",
        "        print(line)\n",
        "        file.write(line)\n",
        "      if line == '```clojure\\n':\n",
        "        clojure_code = True\n",
        "      \n",
        "file.close()\n",
        "print(\"=>\")\n",
        "!bb bb.clj"
      ]
    }
  ],
  "metadata": {
    "colab": {
      "authorship_tag": "ABX9TyOdrPZjbOIQg8bPH9h6JePS",
      "include_colab_link": true,
      "provenance": []
    },
    "kernelspec": {
      "display_name": "Python 3.9.16 64-bit ('3.9.16')",
      "language": "python",
      "name": "python3"
    },
    "language_info": {
      "codemirror_mode": {
        "name": "ipython",
        "version": 3
      },
      "file_extension": ".py",
      "mimetype": "text/x-python",
      "name": "python",
      "nbconvert_exporter": "python",
      "pygments_lexer": "ipython3",
      "version": "3.9.16"
    },
    "vscode": {
      "interpreter": {
        "hash": "5299593d4cdca7aafce377e837dae5184f57edc9ebd8d8a33acb7316621ff3aa"
      }
    }
  },
  "nbformat": 4,
  "nbformat_minor": 0
}
