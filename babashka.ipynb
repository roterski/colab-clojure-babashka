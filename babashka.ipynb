{
  "cells": [
    {
      "cell_type": "code",
      "execution_count": null,
      "metadata": {
        "cellView": "form",
        "id": "mZRdFC1GjKgJ"
      },
      "outputs": [],
      "source": [
        "#@title Install babashka https://github.com/babashka/babashka\n",
        "!(curl -s https://raw.githubusercontent.com/babashka/babashka/master/install) >> .install-babashka\n",
        "!. .install-babashka"
      ]
    },
    {
      "cell_type": "code",
      "execution_count": null,
      "metadata": {
        "cellView": "form",
        "id": "Zts2djzLjvRL"
      },
      "outputs": [],
      "source": [
        "#@title Babashka CLI call\n",
        "!ls | bb -i '(filter fs/directory? *input*)'"
      ]
    },
    {
      "cell_type": "code",
      "execution_count": null,
      "metadata": {
        "id": "yF6n1y69jpTb"
      },
      "outputs": [],
      "source": [
        "#@title run Babashka clojure REPL\n",
        "!bb"
      ]
    },
    {
      "cell_type": "code",
      "execution_count": null,
      "metadata": {
        "id": "cGi4HufRC0Ye"
      },
      "outputs": [],
      "source": [
        "#@title run scripts/bb.clj\n",
        "!curl https://raw.githubusercontent.com/roterski/colab-clojure-babashka/main/scripts/bb.clj | bb"
      ]
    },
    {
      "cell_type": "code",
      "execution_count": null,
      "metadata": {
        "id": "YPgoHXP7QqjJ"
      },
      "outputs": [],
      "source": [
        "#@title Run clojure code from input\n",
        "clj_code = \"(do (def a 5) (+ a 4) )\" #@param {type:\"string\"}\n",
        "\n",
        "!!bb -i \"$clj_code\""
      ]
    },
    {
      "cell_type": "markdown",
      "metadata": {
        "id": "E2HGXtvKlxr-"
      },
      "source": [
        "# Running clojure snippets\n"
      ]
    },
    {
      "cell_type": "markdown",
      "metadata": {
        "id": "0wLvBLTujxzI"
      },
      "source": [
        "Manual steps:\n",
        "- [ ] Click Copy to Drive button in the top bar to create this notebook copy in your drive\n",
        "- [ ] Switch to newly created tab and re-run install babashka step there"
      ]
    },
    {
      "cell_type": "markdown",
      "metadata": {
        "id": "-hMrhuFYkDBE"
      },
      "source": [
        "\n",
        "### Clojure snippet 1\n",
        "clj-1:\n",
        "```clojure\n",
        "#!/usr/bin/env bb\n",
        "\n",
        "(def now (java.time.ZonedDateTime/now))\n",
        "(def LA-timezone (java.time.ZoneId/of \"America/Los_Angeles\"))\n",
        "(def LA-time (.withZoneSameInstant now LA-timezone))\n",
        "(def pattern (java.time.format.DateTimeFormatter/ofPattern \"HH:mm\"))\n",
        "(println (.format LA-time pattern))\n",
        "```\n",
        "clj-2:\n",
        "```clojure\n",
        "(println (+ 3 5))\n",
        "```"
      ]
    },
    {
      "cell_type": "code",
      "execution_count": 2,
      "metadata": {
        "id": "5MhjN9w8gz3N"
      },
      "outputs": [],
      "source": [
        "#@title authenticate to Colab and define run_clj function\n",
        "from google.colab import auth\n",
        "auth.authenticate_user()\n",
        "\n",
        "from pydrive.auth import GoogleAuth\n",
        "from pydrive.drive import GoogleDrive\n",
        "from oauth2client.client import GoogleCredentials\n",
        "import json\n",
        "\n",
        "gauth = GoogleAuth()\n",
        "gauth.credentials = GoogleCredentials.get_application_default()\n",
        "drive = GoogleDrive(gauth)\n",
        "#@markdown Take the Colab Nodebook url from URL bar of this browser tab:\n",
        "colab_notebook_url = '' #@param {'type': 'string'}\n",
        "\n",
        "file_id = colab_notebook_url.split(\"https://colab.research.google.com/drive/\")[-1].split(\"#\")[0]\n",
        "\n",
        "\n",
        "def run_clj(snippet_id):\n",
        "  file = drive.CreateFile({'id': file_id})\n",
        "  downloaded = file.GetContentString()\n",
        "  print(\"Running clojure code:\\n\")\n",
        "\n",
        "  file = open(\"bb.clj\", \"w+\")\n",
        "  clojure_code = False\n",
        "  for cell in json.loads(downloaded)['cells']:\n",
        "    if cell['cell_type'] == 'markdown':\n",
        "      is_chosen_snippet = False\n",
        "      for line in cell['source']:\n",
        "        if line == f'clj-{snippet_id}:\\n':\n",
        "          is_chosen_snippet = True\n",
        "        if clojure_code == True and line == '```\\n':\n",
        "          clojure_code = False\n",
        "          is_chosen_snippet = False\n",
        "        if clojure_code and is_chosen_snippet:\n",
        "          print(line)\n",
        "          file.write(line)\n",
        "        if line == f'```clojure\\n':\n",
        "          clojure_code = True\n",
        "        \n",
        "  file.close()\n",
        "  print(\"=>\")\n",
        "  !bb bb.clj\n"
      ]
    },
    {
      "cell_type": "code",
      "execution_count": null,
      "metadata": {
        "id": "fzuAo__6g7Jn"
      },
      "outputs": [],
      "source": [
        "snippet_id = 2 #@param {'type': 'integer'}\n",
        "run_clj(snippet_id)"
      ]
    },
    {
      "cell_type": "markdown",
      "metadata": {},
      "source": [
        "# Connecting remote ssh nREPL\n",
        "\n",
        "1. use to https://github.com/WassimBenzarti/colab-ssh to create a ssh tunnel to colab env\n",
        "2. it requires creating ngrok (or cloudflared account) and obtaining a token\n",
        "3. once ssh tunnel is open, you need to configure your local editor (VS Code) Remote SSH and connect to it\n",
        "4. install Calva there, run `bb --nrepl-server`\n",
        "5. connect Calva REPL to running babashka nREPL"
      ]
    },
    {
      "cell_type": "code",
      "execution_count": null,
      "metadata": {},
      "outputs": [],
      "source": [
        "!pip install colab_ssh --upgrade"
      ]
    },
    {
      "cell_type": "code",
      "execution_count": null,
      "metadata": {},
      "outputs": [],
      "source": [
        "from colab_ssh import launch_ssh\n",
        "\n",
        "ngrok_token = \"\" #@param {'type': 'string'}\n",
        "password = \"\" #@param {'type': 'string'}\n",
        "launch_ssh(token=ngrok_token, password=password)"
      ]
    }
  ],
  "metadata": {
    "colab": {
      "provenance": []
    },
    "kernelspec": {
      "display_name": "Python 3.9.16 64-bit ('3.9.16')",
      "language": "python",
      "name": "python3"
    },
    "language_info": {
      "codemirror_mode": {
        "name": "ipython",
        "version": 3
      },
      "file_extension": ".py",
      "mimetype": "text/x-python",
      "name": "python",
      "nbconvert_exporter": "python",
      "pygments_lexer": "ipython3",
      "version": "3.9.16"
    },
    "vscode": {
      "interpreter": {
        "hash": "5299593d4cdca7aafce377e837dae5184f57edc9ebd8d8a33acb7316621ff3aa"
      }
    }
  },
  "nbformat": 4,
  "nbformat_minor": 0
}
